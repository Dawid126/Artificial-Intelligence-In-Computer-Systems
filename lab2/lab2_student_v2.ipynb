{
  "cells": [
    {
      "cell_type": "markdown",
      "metadata": {
        "id": "Q1r0yue_Xnwg"
      },
      "source": [
        "# LAB1 - Regresja"
      ]
    },
    {
      "cell_type": "markdown",
      "metadata": {
        "id": "s1kKRFXaXnwl"
      },
      "source": [
        "Przedmiot: _Sztuczna Inteligencja w Systemach Informatycznych_\n",
        "\n",
        "Autor: Tomasz Szydło\n",
        "\n",
        "kontakt: tszydlo@agh.edu.pl\n"
      ]
    },
    {
      "cell_type": "markdown",
      "metadata": {
        "id": "Fwp5xGDUXnwm"
      },
      "source": [
        "_wersja dokumentu uzupełniana przez studenta_"
      ]
    },
    {
      "cell_type": "markdown",
      "metadata": {
        "id": "Dd_pWON0Xnwn"
      },
      "source": [
        "# Wprowadzenie\n",
        "\n",
        "Regresja liniowa w modelowaniu statystycznym odnosi się do metod opartych o liniowe kombinacje zmiennych i parametrów dopasowujących model do danych. Dopasowana linia lub krzywa regresji reprezentuje oszacowaną wartość oczekiwaną zmiennej y przy konkretnych wartościach innej zmiennej lub zmiennych x. W najprostszym przypadku dopasowana jest stała lub funkcja liniowa.\n",
        "\n",
        "Celem zajęć jest identyfikacja modelu regresji dla problemu czasu obliczeń złożonych operacji matematycznych na CPU. Czas obliczeń zależy głównie od mocy obliczeniowej procesora.\n",
        "\n",
        "Środowisko pracy: Anaconda, Jupyter Notebook\n",
        "\n",
        "Narzędzia: Scikit Learn, Python"
      ]
    },
    {
      "cell_type": "markdown",
      "metadata": {
        "id": "ZWq-QSN_Xnwo"
      },
      "source": [
        "# Regresja - przykład\n",
        "\n",
        "Sposób identyfikacji modelu regresji z wykorzystaniem narzędzi programistycznych przedstawia przykład dla danych dotyczacych cukrzycy:\n",
        "\n",
        "https://archive.ics.uci.edu/ml/datasets/diabetes\n",
        "\n",
        "```\n",
        "Source:\n",
        "\n",
        "Michael Kahn, MD, PhD, Washington University, St. Louis, MO\n",
        "\n",
        "Data Set Information:\n",
        "\n",
        "Diabetes patient records were obtained from two sources: an automatic electronic recording device and paper records. The automatic device had an internal clock to timestamp events, whereas the paper records only provided \"logical time\" slots (breakfast, lunch, dinner, bedtime). For paper records, fixed times were assigned to breakfast (08:00), lunch (12:00), dinner (18:00), and bedtime (22:00). Thus paper records have fictitious uniform recording times whereas electronic records have more realistic time stamps.\n",
        "\n",
        "Diabetes files consist of four fields per record. Each field is separated by a tab and each record is separated by a newline.\n",
        "\n",
        "File Names and format:\n",
        " * (1) Date in MM-DD-YYYY format\n",
        " * (2) Time in XX:YY format\n",
        " * (3) Code\n",
        " * (4) Value\n",
        "\n",
        "\n",
        "The Code field is deciphered as follows:\n",
        " * 33 = Regular insulin dose\n",
        " * 34 = NPH insulin dose\n",
        " * 35 = UltraLente insulin dose\n",
        " * 48 = Unspecified blood glucose measurement\n",
        " * 57 = Unspecified blood glucose measurement\n",
        " * 58 = Pre-breakfast blood glucose measurement\n",
        " * 59 = Post-breakfast blood glucose measurement\n",
        " * 60 = Pre-lunch blood glucose measurement\n",
        " * 61 = Post-lunch blood glucose measurement\n",
        " * 62 = Pre-supper blood glucose measurement\n",
        " * 63 = Post-supper blood glucose measurement\n",
        " * 64 = Pre-snack blood glucose measurement\n",
        " * 65 = Hypoglycemic symptoms\n",
        " * 66 = Typical meal ingestion\n",
        " * 67 = More-than-usual meal ingestion\n",
        " * 68 = Less-than-usual meal ingestion\n",
        " * 69 = Typical exercise activity\n",
        " * 70 = More-than-usual exercise activity\n",
        " * 71 = Less-than-usual exercise activity\n",
        " * 72 = Unspecified special event\n",
        "```\n",
        "\n",
        "W przykładzie zastosowano pierwszą cechę zestawu danych dotyczących cukrzycy, aby zilustrować metodę regresji. Końcowy wykres zawierał będzie zarówno dane źródłowe jak i wykres funkcji liniowej zidentyfikowanej za pomocą regresji. Funkcja liniowa przedstawia zależność pomiędzy danymi wejściowymi a wyjściowymi minimalizując sumę kwadratów pomiędzy poszczególnymi parami punktów.\n",
        "\n",
        "\n",
        "Obliczane są również współczynniki oraz błąd modelu."
      ]
    },
    {
      "cell_type": "code",
      "execution_count": 15,
      "metadata": {
        "id": "Bh7iRgWGXnwq"
      },
      "outputs": [],
      "source": [
        "import matplotlib.pyplot as plt\n",
        "import numpy as np\n",
        "from sklearn import datasets, linear_model\n",
        "from sklearn.metrics import mean_squared_error, r2_score"
      ]
    },
    {
      "cell_type": "code",
      "execution_count": 2,
      "metadata": {
        "id": "YQ5osVFFXnwr"
      },
      "outputs": [],
      "source": [
        "# Load the diabetes dataset\n",
        "diabetes = datasets.load_diabetes()"
      ]
    },
    {
      "cell_type": "code",
      "execution_count": 16,
      "metadata": {
        "id": "InVcE0HcXnws"
      },
      "outputs": [],
      "source": [
        "# Use only one feature\n",
        "diabetes_X = diabetes.data[:, np.newaxis, 2]\n",
        "\n",
        "# Split the data into training/testing sets\n",
        "diabetes_X_train = diabetes_X[:-20]\n",
        "diabetes_X_test = diabetes_X[-20:]\n",
        "\n",
        "# Split the targets into training/testing sets\n",
        "diabetes_y_train = diabetes.target[:-20]\n",
        "diabetes_y_test = diabetes.target[-20:]"
      ]
    },
    {
      "cell_type": "code",
      "source": [
        "print(diabetes_X_train)"
      ],
      "metadata": {
        "colab": {
          "base_uri": "https://localhost:8080/"
        },
        "id": "u8GKaVnuc4IR",
        "outputId": "0562358c-30fa-46b1-cb76-5decd6e2c29f"
      },
      "execution_count": 29,
      "outputs": [
        {
          "output_type": "stream",
          "name": "stdout",
          "text": [
            "[[ 0.06169621]\n",
            " [-0.05147406]\n",
            " [ 0.04445121]\n",
            " [-0.01159501]\n",
            " [-0.03638469]\n",
            " [-0.04069594]\n",
            " [-0.04716281]\n",
            " [-0.00189471]\n",
            " [ 0.06169621]\n",
            " [ 0.03906215]\n",
            " [-0.08380842]\n",
            " [ 0.01750591]\n",
            " [-0.02884001]\n",
            " [-0.00189471]\n",
            " [-0.02560657]\n",
            " [-0.01806189]\n",
            " [ 0.04229559]\n",
            " [ 0.01211685]\n",
            " [-0.0105172 ]\n",
            " [-0.01806189]\n",
            " [-0.05686312]\n",
            " [-0.02237314]\n",
            " [-0.00405033]\n",
            " [ 0.06061839]\n",
            " [ 0.03582872]\n",
            " [-0.01267283]\n",
            " [-0.07734155]\n",
            " [ 0.05954058]\n",
            " [-0.02129532]\n",
            " [-0.00620595]\n",
            " [ 0.04445121]\n",
            " [-0.06548562]\n",
            " [ 0.12528712]\n",
            " [-0.05039625]\n",
            " [-0.06332999]\n",
            " [-0.03099563]\n",
            " [ 0.02289497]\n",
            " [ 0.01103904]\n",
            " [ 0.07139652]\n",
            " [ 0.01427248]\n",
            " [-0.00836158]\n",
            " [-0.06764124]\n",
            " [-0.0105172 ]\n",
            " [-0.02345095]\n",
            " [ 0.06816308]\n",
            " [-0.03530688]\n",
            " [-0.01159501]\n",
            " [-0.0730303 ]\n",
            " [-0.04177375]\n",
            " [ 0.01427248]\n",
            " [-0.00728377]\n",
            " [ 0.0164281 ]\n",
            " [-0.00943939]\n",
            " [-0.01590626]\n",
            " [ 0.0250506 ]\n",
            " [-0.04931844]\n",
            " [ 0.04121778]\n",
            " [-0.06332999]\n",
            " [-0.06440781]\n",
            " [-0.02560657]\n",
            " [-0.00405033]\n",
            " [ 0.00457217]\n",
            " [-0.00728377]\n",
            " [-0.0374625 ]\n",
            " [-0.02560657]\n",
            " [-0.02452876]\n",
            " [-0.01806189]\n",
            " [-0.01482845]\n",
            " [-0.02991782]\n",
            " [-0.046085  ]\n",
            " [-0.06979687]\n",
            " [ 0.03367309]\n",
            " [-0.00405033]\n",
            " [-0.02021751]\n",
            " [ 0.00241654]\n",
            " [-0.03099563]\n",
            " [ 0.02828403]\n",
            " [-0.03638469]\n",
            " [-0.05794093]\n",
            " [-0.0374625 ]\n",
            " [ 0.01211685]\n",
            " [-0.02237314]\n",
            " [-0.03530688]\n",
            " [ 0.00996123]\n",
            " [-0.03961813]\n",
            " [ 0.07139652]\n",
            " [-0.07518593]\n",
            " [-0.00620595]\n",
            " [-0.04069594]\n",
            " [-0.04824063]\n",
            " [-0.02560657]\n",
            " [ 0.0519959 ]\n",
            " [ 0.00457217]\n",
            " [-0.06440781]\n",
            " [-0.01698407]\n",
            " [-0.05794093]\n",
            " [ 0.00996123]\n",
            " [ 0.08864151]\n",
            " [-0.00512814]\n",
            " [-0.06440781]\n",
            " [ 0.01750591]\n",
            " [-0.04500719]\n",
            " [ 0.02828403]\n",
            " [ 0.04121778]\n",
            " [ 0.06492964]\n",
            " [-0.03207344]\n",
            " [-0.07626374]\n",
            " [ 0.04984027]\n",
            " [ 0.04552903]\n",
            " [-0.00943939]\n",
            " [-0.03207344]\n",
            " [ 0.00457217]\n",
            " [ 0.02073935]\n",
            " [ 0.01427248]\n",
            " [ 0.11019775]\n",
            " [ 0.00133873]\n",
            " [ 0.05846277]\n",
            " [-0.02129532]\n",
            " [-0.0105172 ]\n",
            " [-0.04716281]\n",
            " [ 0.00457217]\n",
            " [ 0.01750591]\n",
            " [ 0.08109682]\n",
            " [ 0.0347509 ]\n",
            " [ 0.02397278]\n",
            " [-0.00836158]\n",
            " [-0.06117437]\n",
            " [-0.00189471]\n",
            " [-0.06225218]\n",
            " [ 0.0164281 ]\n",
            " [ 0.09618619]\n",
            " [-0.06979687]\n",
            " [-0.02129532]\n",
            " [-0.05362969]\n",
            " [ 0.0433734 ]\n",
            " [ 0.05630715]\n",
            " [-0.0816528 ]\n",
            " [ 0.04984027]\n",
            " [ 0.11127556]\n",
            " [ 0.06169621]\n",
            " [ 0.01427248]\n",
            " [ 0.04768465]\n",
            " [ 0.01211685]\n",
            " [ 0.00564998]\n",
            " [ 0.04660684]\n",
            " [ 0.12852056]\n",
            " [ 0.05954058]\n",
            " [ 0.09295276]\n",
            " [ 0.01535029]\n",
            " [-0.00512814]\n",
            " [ 0.0703187 ]\n",
            " [-0.00405033]\n",
            " [-0.00081689]\n",
            " [-0.04392938]\n",
            " [ 0.02073935]\n",
            " [ 0.06061839]\n",
            " [-0.0105172 ]\n",
            " [-0.03315126]\n",
            " [-0.06548562]\n",
            " [ 0.0433734 ]\n",
            " [-0.06225218]\n",
            " [ 0.06385183]\n",
            " [ 0.03043966]\n",
            " [ 0.07247433]\n",
            " [-0.0191397 ]\n",
            " [-0.06656343]\n",
            " [-0.06009656]\n",
            " [ 0.06924089]\n",
            " [ 0.05954058]\n",
            " [-0.02668438]\n",
            " [-0.02021751]\n",
            " [-0.046085  ]\n",
            " [ 0.07139652]\n",
            " [-0.07949718]\n",
            " [ 0.00996123]\n",
            " [-0.03854032]\n",
            " [ 0.01966154]\n",
            " [ 0.02720622]\n",
            " [-0.00836158]\n",
            " [-0.01590626]\n",
            " [ 0.00457217]\n",
            " [-0.04285156]\n",
            " [ 0.00564998]\n",
            " [-0.03530688]\n",
            " [ 0.02397278]\n",
            " [-0.01806189]\n",
            " [ 0.04229559]\n",
            " [-0.0547075 ]\n",
            " [-0.00297252]\n",
            " [-0.06656343]\n",
            " [-0.01267283]\n",
            " [-0.04177375]\n",
            " [-0.03099563]\n",
            " [-0.00512814]\n",
            " [-0.05901875]\n",
            " [ 0.0250506 ]\n",
            " [-0.046085  ]\n",
            " [ 0.00349435]\n",
            " [ 0.05415152]\n",
            " [-0.04500719]\n",
            " [-0.05794093]\n",
            " [-0.05578531]\n",
            " [ 0.00133873]\n",
            " [ 0.03043966]\n",
            " [ 0.00672779]\n",
            " [ 0.04660684]\n",
            " [ 0.02612841]\n",
            " [ 0.04552903]\n",
            " [ 0.04013997]\n",
            " [-0.01806189]\n",
            " [ 0.01427248]\n",
            " [ 0.03690653]\n",
            " [ 0.00349435]\n",
            " [-0.07087468]\n",
            " [-0.03315126]\n",
            " [ 0.09403057]\n",
            " [ 0.03582872]\n",
            " [ 0.03151747]\n",
            " [-0.06548562]\n",
            " [-0.04177375]\n",
            " [-0.03961813]\n",
            " [-0.03854032]\n",
            " [-0.02560657]\n",
            " [-0.02345095]\n",
            " [-0.06656343]\n",
            " [ 0.03259528]\n",
            " [-0.046085  ]\n",
            " [-0.02991782]\n",
            " [-0.01267283]\n",
            " [-0.01590626]\n",
            " [ 0.07139652]\n",
            " [-0.03099563]\n",
            " [ 0.00026092]\n",
            " [ 0.03690653]\n",
            " [ 0.03906215]\n",
            " [-0.01482845]\n",
            " [ 0.00672779]\n",
            " [-0.06871905]\n",
            " [-0.00943939]\n",
            " [ 0.01966154]\n",
            " [ 0.07462995]\n",
            " [-0.00836158]\n",
            " [-0.02345095]\n",
            " [-0.046085  ]\n",
            " [ 0.05415152]\n",
            " [-0.03530688]\n",
            " [-0.03207344]\n",
            " [-0.0816528 ]\n",
            " [ 0.04768465]\n",
            " [ 0.06061839]\n",
            " [ 0.05630715]\n",
            " [ 0.09834182]\n",
            " [ 0.05954058]\n",
            " [ 0.03367309]\n",
            " [ 0.05630715]\n",
            " [-0.06548562]\n",
            " [ 0.16085492]\n",
            " [-0.05578531]\n",
            " [-0.02452876]\n",
            " [-0.03638469]\n",
            " [-0.00836158]\n",
            " [-0.04177375]\n",
            " [ 0.12744274]\n",
            " [-0.07734155]\n",
            " [ 0.02828403]\n",
            " [-0.02560657]\n",
            " [-0.06225218]\n",
            " [-0.00081689]\n",
            " [ 0.08864151]\n",
            " [-0.03207344]\n",
            " [ 0.03043966]\n",
            " [ 0.00888341]\n",
            " [ 0.00672779]\n",
            " [-0.02021751]\n",
            " [-0.02452876]\n",
            " [-0.01159501]\n",
            " [ 0.02612841]\n",
            " [-0.05901875]\n",
            " [-0.03638469]\n",
            " [-0.02452876]\n",
            " [ 0.01858372]\n",
            " [-0.0902753 ]\n",
            " [-0.00512814]\n",
            " [-0.05255187]\n",
            " [-0.02237314]\n",
            " [-0.02021751]\n",
            " [-0.0547075 ]\n",
            " [-0.00620595]\n",
            " [-0.01698407]\n",
            " [ 0.05522933]\n",
            " [ 0.07678558]\n",
            " [ 0.01858372]\n",
            " [-0.02237314]\n",
            " [ 0.09295276]\n",
            " [-0.03099563]\n",
            " [ 0.03906215]\n",
            " [-0.06117437]\n",
            " [-0.00836158]\n",
            " [-0.0374625 ]\n",
            " [-0.01375064]\n",
            " [ 0.07355214]\n",
            " [-0.02452876]\n",
            " [ 0.03367309]\n",
            " [ 0.0347509 ]\n",
            " [-0.03854032]\n",
            " [-0.03961813]\n",
            " [-0.00189471]\n",
            " [-0.03099563]\n",
            " [-0.046085  ]\n",
            " [ 0.00133873]\n",
            " [ 0.06492964]\n",
            " [ 0.04013997]\n",
            " [-0.02345095]\n",
            " [ 0.05307371]\n",
            " [ 0.04013997]\n",
            " [-0.02021751]\n",
            " [ 0.01427248]\n",
            " [-0.03422907]\n",
            " [ 0.00672779]\n",
            " [ 0.00457217]\n",
            " [ 0.03043966]\n",
            " [ 0.0519959 ]\n",
            " [ 0.06169621]\n",
            " [-0.00728377]\n",
            " [ 0.00564998]\n",
            " [ 0.05415152]\n",
            " [-0.00836158]\n",
            " [ 0.114509  ]\n",
            " [ 0.06708527]\n",
            " [-0.05578531]\n",
            " [ 0.03043966]\n",
            " [-0.02560657]\n",
            " [ 0.10480869]\n",
            " [-0.00620595]\n",
            " [-0.04716281]\n",
            " [-0.04824063]\n",
            " [ 0.08540807]\n",
            " [-0.01267283]\n",
            " [-0.03315126]\n",
            " [-0.00728377]\n",
            " [-0.01375064]\n",
            " [ 0.05954058]\n",
            " [ 0.02181716]\n",
            " [ 0.01858372]\n",
            " [-0.01159501]\n",
            " [-0.00297252]\n",
            " [ 0.01750591]\n",
            " [-0.02991782]\n",
            " [-0.02021751]\n",
            " [-0.05794093]\n",
            " [ 0.06061839]\n",
            " [-0.04069594]\n",
            " [-0.07195249]\n",
            " [-0.05578531]\n",
            " [ 0.04552903]\n",
            " [-0.00943939]\n",
            " [-0.03315126]\n",
            " [ 0.04984027]\n",
            " [-0.08488624]\n",
            " [ 0.00564998]\n",
            " [ 0.02073935]\n",
            " [-0.00728377]\n",
            " [ 0.10480869]\n",
            " [-0.02452876]\n",
            " [-0.00620595]\n",
            " [-0.03854032]\n",
            " [ 0.13714305]\n",
            " [ 0.17055523]\n",
            " [ 0.00241654]\n",
            " [ 0.03798434]\n",
            " [-0.05794093]\n",
            " [-0.00943939]\n",
            " [-0.02345095]\n",
            " [-0.0105172 ]\n",
            " [-0.03422907]\n",
            " [-0.00297252]\n",
            " [ 0.06816308]\n",
            " [ 0.00996123]\n",
            " [ 0.00241654]\n",
            " [-0.03854032]\n",
            " [ 0.02612841]\n",
            " [-0.08919748]\n",
            " [ 0.06061839]\n",
            " [-0.02884001]\n",
            " [-0.02991782]\n",
            " [-0.0191397 ]\n",
            " [-0.04069594]\n",
            " [ 0.01535029]\n",
            " [-0.02452876]\n",
            " [ 0.00133873]\n",
            " [ 0.06924089]\n",
            " [-0.06979687]\n",
            " [-0.02991782]\n",
            " [-0.046085  ]\n",
            " [ 0.01858372]\n",
            " [ 0.00133873]\n",
            " [-0.03099563]\n",
            " [-0.00405033]\n",
            " [ 0.01535029]\n",
            " [ 0.02289497]\n",
            " [ 0.04552903]\n",
            " [-0.04500719]\n",
            " [-0.03315126]\n",
            " [ 0.097264  ]\n",
            " [ 0.05415152]\n",
            " [ 0.12313149]\n",
            " [-0.08057499]\n",
            " [ 0.09295276]\n",
            " [-0.05039625]\n",
            " [-0.01159501]\n",
            " [-0.0277622 ]\n",
            " [ 0.05846277]\n",
            " [ 0.08540807]\n",
            " [-0.00081689]\n",
            " [ 0.00672779]\n",
            " [ 0.00888341]\n",
            " [ 0.08001901]\n",
            " [ 0.07139652]\n",
            " [-0.02452876]\n",
            " [-0.0547075 ]\n",
            " [-0.03638469]\n",
            " [ 0.0164281 ]]\n"
          ]
        }
      ]
    },
    {
      "cell_type": "code",
      "execution_count": 17,
      "metadata": {
        "colab": {
          "base_uri": "https://localhost:8080/"
        },
        "id": "qk8KKhDMXnwt",
        "outputId": "71658cd0-3fff-41da-c478-1d4ea3e3add6"
      },
      "outputs": [
        {
          "output_type": "execute_result",
          "data": {
            "text/plain": [
              "LinearRegression()"
            ]
          },
          "metadata": {},
          "execution_count": 17
        }
      ],
      "source": [
        "# Create linear regression object\n",
        "regr = linear_model.LinearRegression()\n",
        "\n",
        "# Train the model using the training sets\n",
        "regr.fit(diabetes_X_train, diabetes_y_train)\n"
      ]
    },
    {
      "cell_type": "code",
      "execution_count": 18,
      "metadata": {
        "colab": {
          "base_uri": "https://localhost:8080/"
        },
        "id": "FdL0eqvzXnwu",
        "outputId": "9e801920-8be0-4311-9d69-3a484a739881"
      },
      "outputs": [
        {
          "output_type": "stream",
          "name": "stdout",
          "text": [
            "Coefficients: \n",
            " [938.23786125]\n",
            "Intercept: \n",
            " 152.91886182616167\n",
            "Mean squared error: 2548.07\n",
            "Variance score: 0.47\n"
          ]
        }
      ],
      "source": [
        "# Make predictions using the testing set\n",
        "diabetes_y_pred = regr.predict(diabetes_X_test)\n",
        "\n",
        "# The coefficients\n",
        "print('Coefficients: \\n', regr.coef_)\n",
        "print('Intercept: \\n', regr.intercept_)\n",
        "# The mean squared error\n",
        "print(\"Mean squared error: %.2f\"\n",
        "      % mean_squared_error(diabetes_y_test, diabetes_y_pred))\n",
        "# Explained variance score: 1 is perfect prediction\n",
        "print('Variance score: %.2f' % r2_score(diabetes_y_test, diabetes_y_pred))"
      ]
    },
    {
      "cell_type": "code",
      "execution_count": 19,
      "metadata": {
        "colab": {
          "base_uri": "https://localhost:8080/",
          "height": 265
        },
        "id": "HeCXNFJFXnwv",
        "outputId": "bb95e3bb-c4d4-49ae-e48a-84e261429c6e"
      },
      "outputs": [
        {
          "output_type": "display_data",
          "data": {
            "text/plain": [
              "<Figure size 432x288 with 1 Axes>"
            ],
            "image/png": "[encoded data removed]"
          },
          "metadata": {
            "needs_background": "light"
          }
        }
      ],
      "source": [
        "# Plot outputs\n",
        "plt.scatter(diabetes_X_test, diabetes_y_test,  color='black')\n",
        "plt.plot(diabetes_X_test, diabetes_y_pred, color='blue', linewidth=3)\n",
        "\n",
        "#plt.xticks(())\n",
        "#plt.yticks(())\n",
        "\n",
        "plt.show()"
      ]
    },
    {
      "cell_type": "markdown",
      "metadata": {
        "id": "cgQw4SgoXnwv"
      },
      "source": [
        "## Regresja - przewidywanie czasu wykonania operacji\n",
        "\n",
        "W systemie komputerowym istnieją dwa procesy obliczeniowe: io\\_heavy oraz cpu\\_heavy charakteryzujące się tym, że w pierszym przypadku czas wykonania jest głównie zależny od dostępu do urządzeń IO, a w drugim przypadku od szybkości procesora."
      ]
    },
    {
      "cell_type": "code",
      "execution_count": 46,
      "metadata": {
        "id": "RBHdpQImXnww"
      },
      "outputs": [],
      "source": [
        "import random\n",
        "import string\n",
        "import time\n",
        "\n",
        "def io_heavy(text):\n",
        "    f = open('temp_file.txt', 'wt', encoding='utf-8')\n",
        "    f.write(text)\n",
        "    f.close()\n",
        "    return\n",
        "\n",
        "def cpu_heavy(n):\n",
        "    start = time.time()\n",
        "    count = 0\n",
        "    for i in range(n):\n",
        "        count += i\n",
        "    stop = time.time()\n",
        "    return\n",
        "\n",
        "def run_series_cpu(n, iterations=1):\n",
        "    start = time.time()\n",
        "    for i in range(iterations):\n",
        "        cpu_heavy(n)\n",
        "    stop = time.time()\n",
        "    \n",
        "    return stop - start\n",
        "\n",
        "def run_series(text_size, iterations=1):\n",
        "    TEXT = ''.join(random.choice(string.ascii_lowercase) for i in range(text_size))\n",
        "    \n",
        "    start = time.time()\n",
        "    for i in range(iterations):\n",
        "        io_heavy(TEXT)\n",
        "    stop = time.time()\n",
        "    \n",
        "    return stop - start"
      ]
    },
    {
      "cell_type": "markdown",
      "metadata": {
        "id": "k7ev-ajQXnww"
      },
      "source": [
        "Czas obliczeń operacji jest ściśle zależny od mocy obliczeniowej komputera, na którym są one wykonywane."
      ]
    },
    {
      "cell_type": "markdown",
      "metadata": {
        "id": "8o__DkqUXnwx"
      },
      "source": [
        "**TODO** _Opisz specyfikację komputera na którym prowadzone są testy._\n",
        "\n",
        "s10-mwo-52.pcoip.ki.agh.edu.pl\n",
        "\n",
        "Intel(R) Xeon(R) Platinum 8260 CPU @ 2.40GHz\n",
        "\n",
        "Ram 4.00 GB\n",
        "\n",
        "64-bit operating system, x64-based processor\n",
        "\n",
        "\n",
        "Windows 10 Enterprise LTSC version 21H2"
      ]
    },
    {
      "cell_type": "markdown",
      "metadata": {
        "id": "ophbaCTFXnwx"
      },
      "source": [
        "Uzupełnij poniższy kod tak by zebrać czasy wykonania operacji *cpu\\_heavy* dla różnych n. Wyniki powinny być zapisane w tablicach *training_x* oraz *training_y*.\n",
        "\n",
        "Korzystamy z funkcji *run\\_series\\_cpu(n)*.\n",
        "\n",
        "TRAINING_N - ilość danych uczących; długość tablic *training_x* oraz *training_y*.\n"
      ]
    },
    {
      "cell_type": "code",
      "execution_count": 25,
      "metadata": {
        "id": "ez4UXMJ4Xnwx"
      },
      "outputs": [],
      "source": [
        "CPU_MAX_N = 1000000\n",
        "\n",
        "TRAINING_N = 50\n",
        "\n",
        "training_X = []\n",
        "training_y = []\n",
        "\n",
        "for i in range(TRAINING_N):\n",
        "    CPU_N = random.randrange(CPU_MAX_N)\n",
        "    t = run_series_cpu(CPU_N, 1)\n",
        "    training_X.append(CPU_N)\n",
        "    training_y.append(t) \n"
      ]
    },
    {
      "cell_type": "markdown",
      "metadata": {
        "id": "zKTQyGgkXnwy"
      },
      "source": [
        "Przedstaw wykres zależności pomiędzy ilością iteracji obliczeń a czasem wykonania operacji *run\\_series\\_cpu*."
      ]
    },
    {
      "cell_type": "code",
      "execution_count": 26,
      "metadata": {
        "colab": {
          "base_uri": "https://localhost:8080/",
          "height": 278
        },
        "id": "Q5ArIaQFXnwy",
        "outputId": "1ee13442-a448-4f24-eb14-bd0236e6e229"
      },
      "outputs": [
        {
          "output_type": "display_data",
          "data": {
            "text/plain": [
              "<Figure size 432x288 with 1 Axes>"
            ],
            "image/png": "[encoded data removed]"
          },
          "metadata": {
            "needs_background": "light"
          }
        }
      ],
      "source": [
        "plt.scatter(training_X, training_y, color='black')\n",
        "plt.show()"
      ]
    },
    {
      "cell_type": "markdown",
      "metadata": {
        "id": "RFhRbMWUXnwz"
      },
      "source": [
        "Naucz model regresji na danych treningowych."
      ]
    },
    {
      "cell_type": "code",
      "execution_count": 37,
      "metadata": {
        "colab": {
          "base_uri": "https://localhost:8080/"
        },
        "id": "OtYg0_qbXnwz",
        "outputId": "5b358fc6-7a97-44cf-e571-7b6485b83f94"
      },
      "outputs": [
        {
          "output_type": "execute_result",
          "data": {
            "text/plain": [
              "LinearRegression()"
            ]
          },
          "metadata": {},
          "execution_count": 37
        }
      ],
      "source": [
        "# Create linear regression object\n",
        "regr = linear_model.LinearRegression()\n",
        "\n",
        "# Train the model using the training sets\n",
        "training_X = np.array(training_X).reshape(-1, 1)\n",
        "training_y = np.array(training_y).reshape(-1, 1)\n",
        "regr.fit(training_X, training_y)\n"
      ]
    },
    {
      "cell_type": "markdown",
      "metadata": {
        "id": "XhLZ1-qEXnwz"
      },
      "source": [
        "Wypisz szczegóły nauczonego modelu regresji, a następnie przedstaw na wykresie zidentyfikowana funkcję liniową odzwierciedlającą zależności w danych."
      ]
    },
    {
      "cell_type": "code",
      "execution_count": 38,
      "metadata": {
        "colab": {
          "base_uri": "https://localhost:8080/",
          "height": 382
        },
        "id": "QvpNHBhsXnw0",
        "outputId": "0f91c70b-b60a-498c-a84d-1409caa62c26"
      },
      "outputs": [
        {
          "output_type": "stream",
          "name": "stdout",
          "text": [
            "Coefficients: \n",
            " [[7.17506603e-08]]\n",
            "Intercept: \n",
            " [-0.00011651]\n",
            "Mean squared error: 0.00\n",
            "Variance score: 0.99\n"
          ]
        },
        {
          "output_type": "display_data",
          "data": {
            "text/plain": [
              "<Figure size 432x288 with 1 Axes>"
            ],
            "image/png": "[encoded data removed]"
          },
          "metadata": {
            "needs_background": "light"
          }
        }
      ],
      "source": [
        "# Make predictions using the testing set\n",
        "training_y_pred = regr.predict(training_X)\n",
        "\n",
        "# The coefficients\n",
        "print('Coefficients: \\n', regr.coef_)\n",
        "print('Intercept: \\n', regr.intercept_)\n",
        "# The mean squared error\n",
        "print(\"Mean squared error: %.2f\"\n",
        "      % mean_squared_error(training_y, training_y_pred))\n",
        "# Explained variance score: 1 is perfect prediction\n",
        "print('Variance score: %.2f' % r2_score(training_y, training_y_pred))\n",
        "\n",
        "plt.scatter(training_X, training_y, color='black')\n",
        "plt.plot(training_X, training_y_pred, color='blue')\n",
        "\n",
        "plt.show()"
      ]
    },
    {
      "cell_type": "markdown",
      "metadata": {
        "id": "so-7GXn3Xnw0"
      },
      "source": [
        "Na podstawie opracowanego modelu zaimplementuj funkcję szacującą czas działania procesu *cpu intensive*."
      ]
    },
    {
      "cell_type": "code",
      "execution_count": 55,
      "metadata": {
        "id": "m8PYgSO_Xnw0"
      },
      "outputs": [],
      "source": [
        "#testing data\n",
        "\n",
        "def run_series_cpu_predicted_time(n):\n",
        "    return regr.predict(np.array([n]).reshape(-1, 1))\n"
      ]
    },
    {
      "cell_type": "markdown",
      "metadata": {
        "id": "fuFw-eaFXnw1"
      },
      "source": [
        "Na podstawie współczynników _coef_ oraz _intercept_  z wyuczonego modelu przedstaw funkcję matematyczną szacującą czas działania procesu *cpu intensive*.\n",
        "\n",
        "Przydatne informacje: https://scikit-learn.org/stable/modules/linear_model.html#linear-model"
      ]
    },
    {
      "cell_type": "code",
      "execution_count": 56,
      "metadata": {
        "colab": {
          "base_uri": "https://localhost:8080/"
        },
        "id": "UYtfu2zfXnw1",
        "outputId": "db1f00bd-3e6e-4eae-9bbb-2535dd2b3499"
      },
      "outputs": [
        {
          "output_type": "stream",
          "name": "stdout",
          "text": [
            "Coefficient: \n",
            " 7.175066032093029e-08\n",
            "Intercept: \n",
            " -0.00011651031529656686\n"
          ]
        }
      ],
      "source": [
        "coef = regr.coef_[0][0]\n",
        "intercept = regr.intercept_[0]\n",
        "\n",
        "print('Coefficient: \\n', coef)\n",
        "print('Intercept: \\n', intercept)"
      ]
    },
    {
      "cell_type": "markdown",
      "metadata": {
        "id": "J2iHC3bsXnw1"
      },
      "source": [
        "**TODO** Uzupełnij funkcję\n",
        "\n",
        "predicted_time(n) = ... + ...  * n"
      ]
    },
    {
      "cell_type": "code",
      "execution_count": 53,
      "metadata": {
        "id": "3upNxV_NXnw2"
      },
      "outputs": [],
      "source": [
        "def run_series_cpu_predicted_time_linear_function(n):\n",
        "    return intercept + coef*n"
      ]
    },
    {
      "cell_type": "markdown",
      "metadata": {
        "id": "RfPOE3CSXnw2"
      },
      "source": [
        "Wykonaj poniższe operacje i porównaj wyniki."
      ]
    },
    {
      "cell_type": "code",
      "execution_count": 60,
      "metadata": {
        "colab": {
          "base_uri": "https://localhost:8080/"
        },
        "id": "MvTYUSp-Xnw2",
        "outputId": "218dbde1-54fc-4763-d30e-fdbbd78ad4d9"
      },
      "outputs": [
        {
          "output_type": "stream",
          "name": "stdout",
          "text": [
            "Test 1:  0.2972288131713867  Predicted: [[0.28918237]]  Predicted2: 0.2891823673506753\n",
            "Test 2:  0.0038683414459228516  Predicted: [[0.00377955]]  Predicted2: 0.003779550540129948\n",
            "Test 3:  0.06075572967529297  Predicted: [[0.05480166]]  Predicted2: 0.05480166034632444\n",
            "Test 4:  0.006974697113037109  Predicted: [[0.00595883]]  Predicted2: 0.005958833346057564\n",
            "Test 5:  0.39969944953918457  Predicted: [[0.38996126]]  Predicted2: 0.38996126406830467\n"
          ]
        }
      ],
      "source": [
        "print(\"Test 1: \",run_series_cpu(4032003),\" Predicted:\", run_series_cpu_predicted_time(4032003),\" Predicted2:\", run_series_cpu_predicted_time_linear_function(4032003))\n",
        "print(\"Test 2: \",run_series_cpu(54300),\" Predicted:\", run_series_cpu_predicted_time(54300),\" Predicted2:\", run_series_cpu_predicted_time_linear_function(54300))\n",
        "print(\"Test 3: \",run_series_cpu(765403),\" Predicted:\", run_series_cpu_predicted_time(765403),\" Predicted2:\", run_series_cpu_predicted_time_linear_function(765403))\n",
        "print(\"Test 4: \",run_series_cpu(84673),\" Predicted:\", run_series_cpu_predicted_time(84673),\" Predicted2:\", run_series_cpu_predicted_time_linear_function(84673))\n",
        "print(\"Test 5: \",run_series_cpu(5436574),\" Predicted:\", run_series_cpu_predicted_time(5436574),\" Predicted2:\", run_series_cpu_predicted_time_linear_function(5436574))\n"
      ]
    },
    {
      "cell_type": "markdown",
      "metadata": {
        "id": "NYyMKkbZXnw2"
      },
      "source": [
        "# Przydatne źródła\n",
        "\n",
        "https://github.com/bfortuner/ml-study/blob/master/multitasking_python.ipynb"
      ]
    }
  ],
  "metadata": {
    "kernelspec": {
      "display_name": "Python 3",
      "language": "python",
      "name": "python3"
    },
    "language_info": {
      "codemirror_mode": {
        "name": "ipython",
        "version": 3
      },
      "file_extension": ".py",
      "mimetype": "text/x-python",
      "name": "python",
      "nbconvert_exporter": "python",
      "pygments_lexer": "ipython3",
      "version": "3.6.8"
    },
    "colab": {
      "name": "lab1-student_v2.ipynb",
      "provenance": [],
      "collapsed_sections": []
    }
  },
  "nbformat": 4,
  "nbformat_minor": 0
}