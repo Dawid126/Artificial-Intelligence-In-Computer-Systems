{
  "nbformat": 4,
  "nbformat_minor": 0,
  "metadata": {
    "accelerator": "GPU",
    "colab": {
      "name": "lab4_v3_student.ipynb",
      "provenance": [],
      "collapsed_sections": []
    },
    "kernelspec": {
      "display_name": "Python 3",
      "name": "python3"
    }
  },
  "cells": [
    {
      "cell_type": "markdown",
      "metadata": {
        "id": "860PFaEBIk3H"
      },
      "source": [
        "# LAB4 - TensorFlow Lite\n",
        "ver: 3"
      ]
    },
    {
      "cell_type": "markdown",
      "metadata": {
        "id": "sSP0m_ZGIi5I"
      },
      "source": [
        "Przedmiot: _Sztuczna Inteligencja w Systemach Informatycznych_\n",
        "\n",
        "Autor: Tomasz Szydło\n",
        "\n",
        "kontakt: tszydlo@agh.edu.pl\n"
      ]
    },
    {
      "cell_type": "markdown",
      "metadata": {
        "id": "pNIkZMJIIceS"
      },
      "source": [
        "## Wprowadzenie\n",
        "\n",
        "Celem zajęć jest analiza działania konwersji sieci neuronowych do postaci możliwej do uruchomienia na urządzeniach o ograniczonych zasobach. W czasie zajęć będzie wykorzystywany zbiór Fashion MNIST, który zawiera 60000 obrazków w 10 kategoriach:\n",
        "\n",
        "https://github.com/zalandoresearch/fashion-mnist\n",
        "\n",
        "\n",
        "https://www.tensorflow.org/datasets/catalog/fashion_mnist\n",
        "\n",
        "\n",
        "### Środowisko pracy - Google Codelab\n",
        "\n",
        "https://codelabs.developers.google.com/?cat=Machine+Learning\n",
        "\n"
      ]
    },
    {
      "cell_type": "code",
      "metadata": {
        "id": "pffqMCSFKRq6"
      },
      "source": [
        "try:\n",
        "  %tensorflow_version 2.x\n",
        "except:\n",
        "  pass"
      ],
      "execution_count": 1,
      "outputs": []
    },
    {
      "cell_type": "code",
      "metadata": {
        "id": "hOEVEJ4eKU85",
        "colab": {
          "base_uri": "https://localhost:8080/"
        },
        "outputId": "94e14b51-5044-494e-def0-c7b979a43872"
      },
      "source": [
        "import tensorflow as tf\n",
        "from tensorflow.keras.datasets import mnist, fashion_mnist\n",
        "from tensorflow.keras.models import Sequential\n",
        "from tensorflow.keras.layers import Dense, Dropout, Activation, Flatten, Conv2D, AveragePooling2D, MaxPooling2D\n",
        "\n",
        "from keras.utils import np_utils\n",
        "\n",
        "import numpy as np\n",
        "import matplotlib.pyplot as plt\n",
        "import pathlib\n",
        "\n",
        "import time\n",
        "\n",
        "print(tf.__version__)"
      ],
      "execution_count": 2,
      "outputs": [
        {
          "output_type": "stream",
          "name": "stdout",
          "text": [
            "2.8.0\n"
          ]
        }
      ]
    },
    {
      "cell_type": "markdown",
      "metadata": {
        "id": "1fCavbBCMtQ9"
      },
      "source": [
        "Przygotuj zbiór testowy. Zbiór fashion_mnist nie posiada słownych opisów klas."
      ]
    },
    {
      "cell_type": "code",
      "metadata": {
        "id": "SDtjTnnKai7G",
        "colab": {
          "base_uri": "https://localhost:8080/"
        },
        "outputId": "02d81290-5fd6-49a3-ed8f-39cd8712feac"
      },
      "source": [
        "nb_classes = 10\n",
        "class_names = ['T-shirt_top', 'Trouser', 'Pullover', 'Dress', 'Coat',\n",
        "               'Sandal', 'Shirt', 'Sneaker', 'Bag', 'Ankle boot']\n",
        "\n",
        "#(X_train, y_train), (X_test, y_test) = mnist.load_data()\n",
        "(X_train, y_train), (X_test, y_test) = fashion_mnist.load_data()\n",
        "print(\"X_train original shape\", X_train.shape)\n",
        "print(\"y_train original shape\", y_train.shape)"
      ],
      "execution_count": 3,
      "outputs": [
        {
          "output_type": "stream",
          "name": "stdout",
          "text": [
            "Downloading data from https://storage.googleapis.com/tensorflow/tf-keras-datasets/train-labels-idx1-ubyte.gz\n",
            "32768/29515 [=================================] - 0s 0us/step\n",
            "40960/29515 [=========================================] - 0s 0us/step\n",
            "Downloading data from https://storage.googleapis.com/tensorflow/tf-keras-datasets/train-images-idx3-ubyte.gz\n",
            "26427392/26421880 [==============================] - 0s 0us/step\n",
            "26435584/26421880 [==============================] - 0s 0us/step\n",
            "Downloading data from https://storage.googleapis.com/tensorflow/tf-keras-datasets/t10k-labels-idx1-ubyte.gz\n",
            "16384/5148 [===============================================================================================] - 0s 0us/step\n",
            "Downloading data from https://storage.googleapis.com/tensorflow/tf-keras-datasets/t10k-images-idx3-ubyte.gz\n",
            "4423680/4422102 [==============================] - 0s 0us/step\n",
            "4431872/4422102 [==============================] - 0s 0us/step\n",
            "X_train original shape (60000, 28, 28)\n",
            "y_train original shape (60000,)\n"
          ]
        }
      ]
    },
    {
      "cell_type": "markdown",
      "metadata": {
        "id": "gJDe17SdCn6R"
      },
      "source": [
        "Wypisz ilość elementów w zbiorze uczącym i testowym.\n",
        "\n",
        "\n",
        "\n"
      ]
    },
    {
      "cell_type": "code",
      "metadata": {
        "id": "eAcGemlGbuUG",
        "colab": {
          "base_uri": "https://localhost:8080/"
        },
        "outputId": "f5c449fa-1cd1-4d3d-d1ed-31bea415412f"
      },
      "source": [
        "print(X_test)\n",
        "print(X_train)\n",
        "\n",
        "print(len(list(X_test)))\n",
        "print(len(list(X_train)))"
      ],
      "execution_count": 4,
      "outputs": [
        {
          "output_type": "stream",
          "name": "stdout",
          "text": [
            "[[[0 0 0 ... 0 0 0]\n",
            "  [0 0 0 ... 0 0 0]\n",
            "  [0 0 0 ... 0 0 0]\n",
            "  ...\n",
            "  [0 0 0 ... 0 0 0]\n",
            "  [0 0 0 ... 0 0 0]\n",
            "  [0 0 0 ... 0 0 0]]\n",
            "\n",
            " [[0 0 0 ... 0 0 0]\n",
            "  [0 0 0 ... 0 0 0]\n",
            "  [0 0 0 ... 0 0 0]\n",
            "  ...\n",
            "  [0 0 0 ... 0 0 0]\n",
            "  [0 0 0 ... 0 0 0]\n",
            "  [0 0 0 ... 0 0 0]]\n",
            "\n",
            " [[0 0 0 ... 0 0 0]\n",
            "  [0 0 0 ... 0 0 0]\n",
            "  [0 0 0 ... 0 0 0]\n",
            "  ...\n",
            "  [0 0 0 ... 0 0 0]\n",
            "  [0 0 0 ... 0 0 0]\n",
            "  [0 0 0 ... 0 0 0]]\n",
            "\n",
            " ...\n",
            "\n",
            " [[0 0 0 ... 0 0 0]\n",
            "  [0 0 0 ... 0 0 0]\n",
            "  [0 0 0 ... 0 0 0]\n",
            "  ...\n",
            "  [0 0 0 ... 0 0 0]\n",
            "  [0 0 0 ... 0 0 0]\n",
            "  [0 0 0 ... 0 0 0]]\n",
            "\n",
            " [[0 0 0 ... 0 0 0]\n",
            "  [0 0 0 ... 0 0 0]\n",
            "  [0 0 0 ... 0 0 0]\n",
            "  ...\n",
            "  [0 0 0 ... 0 0 0]\n",
            "  [0 0 0 ... 0 0 0]\n",
            "  [0 0 0 ... 0 0 0]]\n",
            "\n",
            " [[0 0 0 ... 0 0 0]\n",
            "  [0 0 0 ... 0 0 0]\n",
            "  [0 0 0 ... 0 0 0]\n",
            "  ...\n",
            "  [0 0 0 ... 0 0 0]\n",
            "  [0 0 0 ... 0 0 0]\n",
            "  [0 0 0 ... 0 0 0]]]\n",
            "[[[0 0 0 ... 0 0 0]\n",
            "  [0 0 0 ... 0 0 0]\n",
            "  [0 0 0 ... 0 0 0]\n",
            "  ...\n",
            "  [0 0 0 ... 0 0 0]\n",
            "  [0 0 0 ... 0 0 0]\n",
            "  [0 0 0 ... 0 0 0]]\n",
            "\n",
            " [[0 0 0 ... 0 0 0]\n",
            "  [0 0 0 ... 0 0 0]\n",
            "  [0 0 0 ... 0 0 0]\n",
            "  ...\n",
            "  [0 0 0 ... 0 0 0]\n",
            "  [0 0 0 ... 0 0 0]\n",
            "  [0 0 0 ... 0 0 0]]\n",
            "\n",
            " [[0 0 0 ... 0 0 0]\n",
            "  [0 0 0 ... 0 0 0]\n",
            "  [0 0 0 ... 0 0 0]\n",
            "  ...\n",
            "  [0 0 0 ... 0 0 0]\n",
            "  [0 0 0 ... 0 0 0]\n",
            "  [0 0 0 ... 0 0 0]]\n",
            "\n",
            " ...\n",
            "\n",
            " [[0 0 0 ... 0 0 0]\n",
            "  [0 0 0 ... 0 0 0]\n",
            "  [0 0 0 ... 0 0 0]\n",
            "  ...\n",
            "  [0 0 0 ... 0 0 0]\n",
            "  [0 0 0 ... 0 0 0]\n",
            "  [0 0 0 ... 0 0 0]]\n",
            "\n",
            " [[0 0 0 ... 0 0 0]\n",
            "  [0 0 0 ... 0 0 0]\n",
            "  [0 0 0 ... 0 0 0]\n",
            "  ...\n",
            "  [0 0 0 ... 0 0 0]\n",
            "  [0 0 0 ... 0 0 0]\n",
            "  [0 0 0 ... 0 0 0]]\n",
            "\n",
            " [[0 0 0 ... 0 0 0]\n",
            "  [0 0 0 ... 0 0 0]\n",
            "  [0 0 0 ... 0 0 0]\n",
            "  ...\n",
            "  [0 0 0 ... 0 0 0]\n",
            "  [0 0 0 ... 0 0 0]\n",
            "  [0 0 0 ... 0 0 0]]]\n",
            "10000\n",
            "60000\n"
          ]
        }
      ]
    },
    {
      "cell_type": "markdown",
      "metadata": {
        "id": "ZnhPDvc8DCcr"
      },
      "source": [
        "**TODO** Zmień poniższy kod tak by wyświetlić 10 przykładowych obrazków - po jednym z każdej klasy."
      ]
    },
    {
      "cell_type": "code",
      "metadata": {
        "colab": {
          "base_uri": "https://localhost:8080/",
          "height": 281
        },
        "id": "G6DBqmkEcKKL",
        "outputId": "f5753138-8656-47c1-c533-355039cba3f4"
      },
      "source": [
        "def find_i(class_name):\n",
        "  i=0\n",
        "  while(class_names[y_test[i]] != class_name):\n",
        "    i+=1\n",
        "  return i\n",
        "\n",
        "j=0\n",
        "for class_name in class_names:\n",
        "    i = find_i(class_name)\n",
        "    plt.subplot(3,4,j+1)\n",
        "    plt.imshow(X_test[i], cmap='gray', interpolation='none')\n",
        "    plt.title(\"{}\".format(class_names[y_test[i]]))\n",
        "    j = j +1"
      ],
      "execution_count": 8,
      "outputs": [
        {
          "output_type": "display_data",
          "data": {
            "text/plain": [
              "<Figure size 432x288 with 10 Axes>"
            ],
            "image/png": "[encoded data removed]"
          },
          "metadata": {
            "needs_background": "light"
          }
        }
      ]
    },
    {
      "cell_type": "markdown",
      "metadata": {
        "id": "VMjUbt92c1hL"
      },
      "source": [
        "Sieć neuronowa przyjmuje na wejściu obrazek z jednym kanałem - poziomem jasności, więc konieczne jest przekształcenie danych wejściowych, aby każdy obraz 28 x 28 stał się macierzą 28 x 28 x 1. \n",
        "\n",
        "Skalujemy również dane wejściowe w zakresie [0–1] zamiast [0–255]"
      ]
    },
    {
      "cell_type": "code",
      "metadata": {
        "id": "eBEvZU9gdFfU",
        "colab": {
          "base_uri": "https://localhost:8080/"
        },
        "outputId": "4537a712-4d18-4d1c-da6f-424bb35df690"
      },
      "source": [
        "X_train = X_train.reshape(60000, 28,28,1)\n",
        "X_test = X_test.reshape(10000, 28,28,1)\n",
        "X_train = X_train.astype('float32')\n",
        "X_test = X_test.astype('float32')\n",
        "X_train /= 255\n",
        "X_test /= 255\n",
        "print(\"Training matrix shape\", X_train.shape)\n",
        "print(\"Testing matrix shape\", X_test.shape)\n",
        "\n",
        "print(nb_classes)"
      ],
      "execution_count": 9,
      "outputs": [
        {
          "output_type": "stream",
          "name": "stdout",
          "text": [
            "Training matrix shape (60000, 28, 28, 1)\n",
            "Testing matrix shape (10000, 28, 28, 1)\n",
            "10\n"
          ]
        }
      ]
    },
    {
      "cell_type": "markdown",
      "metadata": {
        "id": "-tJKBV4LdMm7"
      },
      "source": [
        "Zmodyfikuj macierze wyjść korzystając z techniki One Hot Encoding, tj.\n",
        "\n",
        "```\n",
        "0 -> [1, 0, 0, 0, 0, 0, 0, 0, 0]\n",
        "1 -> [0, 1, 0, 0, 0, 0, 0, 0, 0]\n",
        "2 -> [0, 0, 1, 0, 0, 0, 0, 0, 0]\n",
        "```\n",
        "itp."
      ]
    },
    {
      "cell_type": "code",
      "metadata": {
        "id": "YeyLgauzdLUC"
      },
      "source": [
        "Y_train = np_utils.to_categorical(y_train, num_classes = 10)\n",
        "Y_test = np_utils.to_categorical(y_test, num_classes = 10)"
      ],
      "execution_count": 10,
      "outputs": []
    },
    {
      "cell_type": "markdown",
      "metadata": {
        "id": "0MBVlQSBDhd3"
      },
      "source": [
        "Wielowarstwowa sieć konwolucyjna do klasyfikacji ubrań."
      ]
    },
    {
      "cell_type": "code",
      "metadata": {
        "id": "JenWFnRJPyI6"
      },
      "source": [
        "model = Sequential([\n",
        "  Conv2D(16, 3, activation='relu', input_shape=(28, 28, 1)),\n",
        "  MaxPooling2D(),\n",
        "  Conv2D(32, 3, activation='relu'),\n",
        "  Flatten(),\n",
        "  Dense(64, activation='relu'),\n",
        "  Dense(10, activation='softmax')\n",
        "])\n",
        "\n",
        "model.compile(optimizer='adam', loss='categorical_crossentropy', metrics=['accuracy'])"
      ],
      "execution_count": 11,
      "outputs": []
    },
    {
      "cell_type": "code",
      "metadata": {
        "id": "iSxRrxYK6pUU",
        "colab": {
          "base_uri": "https://localhost:8080/"
        },
        "outputId": "58eefdb4-519b-41db-dc9d-7072a0ba46e9"
      },
      "source": [
        "model.summary()"
      ],
      "execution_count": 12,
      "outputs": [
        {
          "output_type": "stream",
          "name": "stdout",
          "text": [
            "Model: \"sequential\"\n",
            "_________________________________________________________________\n",
            " Layer (type)                Output Shape              Param #   \n",
            "=================================================================\n",
            " conv2d (Conv2D)             (None, 26, 26, 16)        160       \n",
            "                                                                 \n",
            " max_pooling2d (MaxPooling2D  (None, 13, 13, 16)       0         \n",
            " )                                                               \n",
            "                                                                 \n",
            " conv2d_1 (Conv2D)           (None, 11, 11, 32)        4640      \n",
            "                                                                 \n",
            " flatten (Flatten)           (None, 3872)              0         \n",
            "                                                                 \n",
            " dense (Dense)               (None, 64)                247872    \n",
            "                                                                 \n",
            " dense_1 (Dense)             (None, 10)                650       \n",
            "                                                                 \n",
            "=================================================================\n",
            "Total params: 253,322\n",
            "Trainable params: 253,322\n",
            "Non-trainable params: 0\n",
            "_________________________________________________________________\n"
          ]
        }
      ]
    },
    {
      "cell_type": "markdown",
      "metadata": {
        "id": "7CKJgoMcDrFv"
      },
      "source": [
        "W celu skrócenia czasu uczenia sieci wskazane jest użycie GPU."
      ]
    },
    {
      "cell_type": "code",
      "metadata": {
        "id": "Xo3UTs-Hd8L0",
        "colab": {
          "base_uri": "https://localhost:8080/"
        },
        "outputId": "5ba4f591-914c-495c-c823-d169223e1aef"
      },
      "source": [
        "model.fit(X_train, Y_train,\n",
        "          batch_size=32, epochs=10,\n",
        "          verbose=1,\n",
        "          validation_data=(X_test, Y_test))"
      ],
      "execution_count": 13,
      "outputs": [
        {
          "output_type": "stream",
          "name": "stdout",
          "text": [
            "Epoch 1/10\n",
            "1875/1875 [==============================] - 21s 6ms/step - loss: 0.4297 - accuracy: 0.8449 - val_loss: 0.3249 - val_accuracy: 0.8851\n",
            "Epoch 2/10\n",
            "1875/1875 [==============================] - 10s 6ms/step - loss: 0.2837 - accuracy: 0.8970 - val_loss: 0.2901 - val_accuracy: 0.8949\n",
            "Epoch 3/10\n",
            "1875/1875 [==============================] - 12s 6ms/step - loss: 0.2375 - accuracy: 0.9128 - val_loss: 0.2726 - val_accuracy: 0.9013\n",
            "Epoch 4/10\n",
            "1875/1875 [==============================] - 10s 5ms/step - loss: 0.2034 - accuracy: 0.9243 - val_loss: 0.2477 - val_accuracy: 0.9135\n",
            "Epoch 5/10\n",
            "1875/1875 [==============================] - 10s 5ms/step - loss: 0.1773 - accuracy: 0.9339 - val_loss: 0.2432 - val_accuracy: 0.9180\n",
            "Epoch 6/10\n",
            "1875/1875 [==============================] - 10s 5ms/step - loss: 0.1510 - accuracy: 0.9441 - val_loss: 0.2634 - val_accuracy: 0.9143\n",
            "Epoch 7/10\n",
            "1875/1875 [==============================] - 10s 5ms/step - loss: 0.1306 - accuracy: 0.9513 - val_loss: 0.2499 - val_accuracy: 0.9175\n",
            "Epoch 8/10\n",
            "1875/1875 [==============================] - 10s 5ms/step - loss: 0.1150 - accuracy: 0.9569 - val_loss: 0.2585 - val_accuracy: 0.9185\n",
            "Epoch 9/10\n",
            "1875/1875 [==============================] - 10s 5ms/step - loss: 0.0975 - accuracy: 0.9632 - val_loss: 0.2829 - val_accuracy: 0.9178\n",
            "Epoch 10/10\n",
            "1875/1875 [==============================] - 10s 5ms/step - loss: 0.0829 - accuracy: 0.9692 - val_loss: 0.2924 - val_accuracy: 0.9123\n"
          ]
        },
        {
          "output_type": "execute_result",
          "data": {
            "text/plain": [
              "<keras.callbacks.History at 0x7fa34b940990>"
            ]
          },
          "metadata": {},
          "execution_count": 13
        }
      ]
    },
    {
      "cell_type": "markdown",
      "metadata": {
        "id": "VUF-tZzKG_5r"
      },
      "source": [
        "# Zapisywanie NN\n",
        "\n",
        "Szczegółowe informacje dotyczące zapisywania modeli TensorFlow dostępne pod linkiem:\n",
        "\n",
        "https://www.tensorflow.org/tutorials/keras/save_and_load"
      ]
    },
    {
      "cell_type": "code",
      "metadata": {
        "id": "_XXAwJIjR-eF",
        "colab": {
          "base_uri": "https://localhost:8080/"
        },
        "outputId": "a90fb53c-84f8-402e-d66c-62deb4ba395e"
      },
      "source": [
        "export_dir = 'saved_model'\n",
        "model.save(export_dir)"
      ],
      "execution_count": 14,
      "outputs": [
        {
          "output_type": "stream",
          "name": "stdout",
          "text": [
            "INFO:tensorflow:Assets written to: saved_model/assets\n"
          ]
        }
      ]
    },
    {
      "cell_type": "markdown",
      "metadata": {
        "id": "2Qc03BzFZkOL"
      },
      "source": [
        "Po zapisaniu modelu należy kliknąć \"Refresh\" po lewej stronie w zakładce \"Files\". W katalogu \"saved_model\" znajduje się zapisany model."
      ]
    },
    {
      "cell_type": "markdown",
      "metadata": {
        "id": "2ikJea6vRj4o"
      },
      "source": [
        "# Export do TFLite\n",
        "\n",
        "Narzędzie `TFLiteConverter` zostanie wykorzystane do konwersji modelu NN do formatu akceptowanego przez TFLite tzn. `flat protocol buffers`.\n",
        "\n",
        "https://www.tensorflow.org/lite/guide/get_started#2_convert_the_model_format\n",
        "\n",
        "Wygenerowany model `\"model-base.tflite\"` operuje na wagach typu `float32`."
      ]
    },
    {
      "cell_type": "code",
      "metadata": {
        "id": "IWcRPnrS5NxX",
        "colab": {
          "base_uri": "https://localhost:8080/"
        },
        "outputId": "d4d2578b-9c17-48d4-a7d1-16041e6ada5f"
      },
      "source": [
        "  converter = tf.lite.TFLiteConverter.from_saved_model(export_dir)\n",
        "  tflite_model = converter.convert()\n",
        "\n",
        "  with open(\"model-base.tflite\", \"wb\") as f:\n",
        "    f.write(tflite_model)  \n"
      ],
      "execution_count": 15,
      "outputs": [
        {
          "output_type": "stream",
          "name": "stderr",
          "text": [
            "WARNING:absl:Buffer deduplication procedure will be skipped when flatbuffer library is not properly loaded\n"
          ]
        }
      ]
    },
    {
      "cell_type": "markdown",
      "metadata": {
        "id": "yxUdslmYapId"
      },
      "source": [
        "Po zapisaniu modelu należy kliknąć \"Refresh\" po lewej stronie w zakładce \"Files\". "
      ]
    },
    {
      "cell_type": "markdown",
      "metadata": {
        "id": "RAw9StfeGxB3"
      },
      "source": [
        "Kolejnym krokiem jest kwantyzacja wag modelu z 32 bitowych liczb rzeczywistych do liczb 8 bitowych. Proces kwantyzacji jest uruchamiany na gotowym, wyuczonym modelu. Należy wybrać profil optymaliacji `tf.lite.Optimize.DEFAULT`.\n",
        "\n"
      ]
    },
    {
      "cell_type": "code",
      "metadata": {
        "id": "cimp2vhU51dZ",
        "colab": {
          "base_uri": "https://localhost:8080/"
        },
        "outputId": "c86085e2-d5ab-439a-a711-23ad28a8f41e"
      },
      "source": [
        "  converter = tf.lite.TFLiteConverter.from_saved_model(export_dir)\n",
        "  \n",
        "  converter.optimizations = [tf.lite.Optimize.DEFAULT]\n",
        "\n",
        "  tflite_model = converter.convert()\n",
        "\n",
        "  with open(\"model-quant.tflite\", \"wb\") as f:\n",
        "    f.write(tflite_model)  \n"
      ],
      "execution_count": 16,
      "outputs": [
        {
          "output_type": "stream",
          "name": "stderr",
          "text": [
            "WARNING:absl:Buffer deduplication procedure will be skipped when flatbuffer library is not properly loaded\n"
          ]
        }
      ]
    },
    {
      "cell_type": "markdown",
      "metadata": {
        "id": "Qr9DQgrKHi_B"
      },
      "source": [
        "Po zapisaniu modelu należy kliknąć \"Refresh\" po lewej stronie w zakładce \"Files\"."
      ]
    },
    {
      "cell_type": "code",
      "metadata": {
        "id": "ZUcelAwJ5NU7"
      },
      "source": [
        "# funkcja testujaca model z wykorzystaniem interpretera TFLite\n",
        "# TODO zmodyfikuj funkcje tak by zwracala (accuracy, latency)\n",
        "import time\n",
        "\n",
        "def test_model_accuracy(tflite_model):\n",
        "  # Load TFLite model and allocate tensors.\n",
        "  interpreter = tf.lite.Interpreter(model_path=tflite_model)\n",
        "  interpreter.allocate_tensors()\n",
        "\n",
        "  input_index = interpreter.get_input_details()[0][\"index\"]\n",
        "  output_index = interpreter.get_output_details()[0][\"index\"]\n",
        "\n",
        "  all = len(X_test)\n",
        "  good = 0.0\n",
        "  start = time.time()\n",
        "  for img, label in zip(X_test, y_test):\n",
        "    interpreter.set_tensor(input_index, [img])\n",
        "\n",
        "    interpreter.invoke()\n",
        "\n",
        "    prediction = interpreter.get_tensor(output_index)\n",
        "    label_is = np.argmax(prediction, axis=-1)[0]\n",
        "    label_should_be = label\n",
        "    if(label_is == label_should_be):\n",
        "      good+=1\n",
        "\n",
        "    # print(\"Label is {} should be {}.\".format(label_is, label_should_be))\n",
        "  stop = time.time()\n",
        "  return (good/all, (stop - start)/all )\n"
      ],
      "execution_count": 35,
      "outputs": []
    },
    {
      "cell_type": "code",
      "metadata": {
        "id": "_tHC8pGhT0_N",
        "colab": {
          "base_uri": "https://localhost:8080/"
        },
        "outputId": "9c4432fb-9ae5-473b-8a3c-e1b05d52fbe5"
      },
      "source": [
        "#TODO tylko na potrzeby testowania - do usuniecia\n",
        "result1 = test_model_accuracy(\"model-base.tflite\")\n",
        "result2 = test_model_accuracy(\"model-quant.tflite\")\n",
        "\n",
        "print(result1)\n",
        "\n",
        "#TODO tylko na potrzeby testowania - do usuniecia\n",
        "print(result2)\n"
      ],
      "execution_count": 42,
      "outputs": [
        {
          "output_type": "stream",
          "name": "stdout",
          "text": [
            "(0.9123, 0.00011219360828399658)\n",
            "(0.9123, 0.0023336485385894775)\n"
          ]
        }
      ]
    },
    {
      "cell_type": "code",
      "metadata": {
        "id": "9SshGHd36A9a",
        "colab": {
          "base_uri": "https://localhost:8080/",
          "height": 336
        },
        "outputId": "7312e777-0f95-4224-fc80-f2f4f54c44d9"
      },
      "source": [
        "# porównaj dokladnosc wynikowych modeli TFLite\n",
        "\n",
        "# TODO wyniki przedstaw na wykresie słupkowym (jeden slupek dla model-base, a drugi dla model-quant)\n",
        "import matplotlib.pyplot as plt\n",
        "fig = plt.figure()\n",
        "ax = fig.add_axes([0,0,1,1])\n",
        "models = ['Model-base', 'Model-quant']\n",
        "accuracy = [result1[0], result2[0]]\n",
        "ax.bar(models,accuracy)\n",
        "plt.show()\n"
      ],
      "execution_count": 41,
      "outputs": [
        {
          "output_type": "display_data",
          "data": {
            "text/plain": [
              "<Figure size 432x288 with 1 Axes>"
            ],
            "image/png": "[encoded data removed]"
          },
          "metadata": {
            "needs_background": "light"
          }
        }
      ]
    },
    {
      "cell_type": "code",
      "metadata": {
        "id": "sZ9FYFBnIBaY",
        "colab": {
          "base_uri": "https://localhost:8080/",
          "height": 347
        },
        "outputId": "a47e8b1d-25be-4a81-a23d-60a298577473"
      },
      "source": [
        "# porównaj rozmiar wynikowych modeli TFLite\n",
        "\n",
        "# TODO wyniki przedstaw na wykresie słupkowym (jeden slupek dla model-base, a drugi dla model-quant)\n",
        "import os\n",
        "\n",
        "fig = plt.figure()\n",
        "ax = fig.add_axes([0,0,1,1])\n",
        "models = ['Model-base', 'Model-quant']\n",
        "size = [os.path.getsize('model-base.tflite'), os.path.getsize('model-quant.tflite')]\n",
        "ax.bar(models,size)\n",
        "plt.show()\n"
      ],
      "execution_count": 47,
      "outputs": [
        {
          "output_type": "display_data",
          "data": {
            "text/plain": [
              "<Figure size 432x288 with 1 Axes>"
            ],
            "image/png": "[encoded data removed]"
          },
          "metadata": {
            "needs_background": "light"
          }
        }
      ]
    },
    {
      "cell_type": "code",
      "metadata": {
        "id": "ymoU1RNc6D5m",
        "colab": {
          "base_uri": "https://localhost:8080/",
          "height": 336
        },
        "outputId": "f84d0311-1127-4880-dcc6-1d4594cd57f0"
      },
      "source": [
        "# porównaj czas dzialania wynikowych modeli TFLite\n",
        "\n",
        "# TODO wyniki przedstaw na wykresie słupkowym (jeden slupek dla model-base, a drugi dla model-quant)\n",
        "# porównaj dokladnosc wynikowych modeli TFLite\n",
        "\n",
        "# TODO wyniki przedstaw na wykresie słupkowym (jeden slupek dla model-base, a drugi dla model-quant)\n",
        "fig = plt.figure()\n",
        "ax = fig.add_axes([0,0,1,1])\n",
        "models = ['Model-base', 'Model-quant']\n",
        "latency = [result1[1], result2[1]]\n",
        "ax.bar(models,latency)\n",
        "plt.show()"
      ],
      "execution_count": 43,
      "outputs": [
        {
          "output_type": "display_data",
          "data": {
            "text/plain": [
              "<Figure size 432x288 with 1 Axes>"
            ],
            "image/png": "[encoded data removed]"
          },
          "metadata": {
            "needs_background": "light"
          }
        }
      ]
    },
    {
      "cell_type": "markdown",
      "metadata": {
        "id": "5fCWZL6YuiDh"
      },
      "source": [
        " # Wnioski\n",
        "\n",
        "**TODO** przedstaw wnioski z przeprowadzonych eksperymentów\n",
        "Accuracy dla obu modeli jest takie samo, czas działania modeli i rozmiar jest różny. Wynika z tego, że gdy zależy nam na czasie działania to powinniśmy wybrać model bazowy. Jednak gdy mamy ograniczone zasoby pamięciowe i mocowe (np edge devices) to wtedy model kwantowy będzie lepszy.\n",
        "**TODO** dlaczego czasy działania modeli są różne?\n",
        "Czas dla modelu kwantowego powinien być mniejszy, bo jego rozmiar jest mniejszy. W naszym przypadku jest inaczej, ale może to być spowodowane tym, że uruchamiamy to na GPU, a tensorflow lite daje gwarancję na szybsze działanie tylko na urządzeniach typu telefon czy edge devices."
      ]
    }
  ]
}